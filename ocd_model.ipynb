{
 "cells": [
  {
   "cell_type": "code",
   "execution_count": 1,
   "id": "8110dfaf-f9ce-47f2-9a99-668683005f21",
   "metadata": {},
   "outputs": [
    {
     "name": "stdout",
     "output_type": "stream",
     "text": [
      "Cloning into 'models'...\n",
      "remote: Enumerating objects: 74512, done.\u001b[K\n",
      "remote: Counting objects: 100% (532/532), done.\u001b[K\n",
      "remote: Compressing objects: 100% (283/283), done.\u001b[K\n",
      "remote: Total 74512 (delta 292), reused 460 (delta 239), pack-reused 73980\u001b[K\n",
      "Receiving objects: 100% (74512/74512), 580.38 MiB | 7.02 MiB/s, done.\n",
      "Resolving deltas: 100% (52758/52758), done.\n",
      "Updating files: 100% (3076/3076), done.\n"
     ]
    }
   ],
   "source": [
    "!git clone https://github.com/tensorflow/models.git"
   ]
  },
  {
   "cell_type": "code",
   "execution_count": null,
   "id": "137f22e2-4d9c-4ecc-8ec8-ae4818a3e4de",
   "metadata": {},
   "outputs": [],
   "source": []
  }
 ],
 "metadata": {
  "kernelspec": {
   "display_name": "Python 3 (ipykernel)",
   "language": "python",
   "name": "python3"
  },
  "language_info": {
   "codemirror_mode": {
    "name": "ipython",
    "version": 3
   },
   "file_extension": ".py",
   "mimetype": "text/x-python",
   "name": "python",
   "nbconvert_exporter": "python",
   "pygments_lexer": "ipython3",
   "version": "3.9.13"
  }
 },
 "nbformat": 4,
 "nbformat_minor": 5
}
